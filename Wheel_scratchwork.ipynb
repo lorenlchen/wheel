{
 "cells": [
  {
   "cell_type": "code",
   "execution_count": 35,
   "metadata": {
    "ExecuteTime": {
     "end_time": "2019-04-02T14:10:57.690057Z",
     "start_time": "2019-04-02T14:10:57.677625Z"
    }
   },
   "outputs": [],
   "source": [
    "import os\n",
    "import pickle\n",
    "import string\n",
    "import re\n",
    "import requests\n",
    "\n",
    "from bs4 import BeautifulSoup\n",
    "import lxml\n",
    "import requests\n",
    "import pandas as pd\n",
    "from sklearn.feature_extraction.text import CountVectorizer\n",
    "from sklearn.model_selection import train_test_split\n",
    "from collections import defaultdict\n",
    "import numpy as np\n",
    "import time\n",
    "from IPython import display"
   ]
  },
  {
   "cell_type": "code",
   "execution_count": 2,
   "metadata": {
    "ExecuteTime": {
     "end_time": "2019-04-02T13:42:57.763066Z",
     "start_time": "2019-04-02T13:42:57.735224Z"
    }
   },
   "outputs": [],
   "source": [
    "def get_puzzles(curr_season=35, url_base='http://buyavowel.boards.net/page/compendium'):    \n",
    "    row_list = []\n",
    "    for season in range(1, curr_season+1):\n",
    "        url = f'{url_base}{season}'\n",
    "        response = requests.get(url)\n",
    "        soup = BeautifulSoup(response.text, 'lxml')\n",
    "        table = soup.find('div', {'id': 'zone_2'})\n",
    "        rows=[row for row in table.find_all('tr')]\n",
    "        for row in rows[1:]:\n",
    "            items=row.find_all('td')\n",
    "            if not items:\n",
    "                continue\n",
    "            if items[-1].text == 'BR':\n",
    "                r = 'Bonus'\n",
    "            else: r= 'Round'\n",
    "            row_list.append([i.text.upper() for i in items[:-1]] + [r, season])\n",
    "    return pd.DataFrame(row_list, columns=['puzzle', 'category', 'date', 'round', 'season'])"
   ]
  },
  {
   "cell_type": "code",
   "execution_count": 3,
   "metadata": {
    "ExecuteTime": {
     "end_time": "2019-04-02T13:43:15.768169Z",
     "start_time": "2019-04-02T13:42:58.303060Z"
    }
   },
   "outputs": [],
   "source": [
    "df = get_puzzles()"
   ]
  },
  {
   "cell_type": "code",
   "execution_count": 4,
   "metadata": {
    "ExecuteTime": {
     "end_time": "2019-04-02T13:43:15.842188Z",
     "start_time": "2019-04-02T13:43:15.829568Z"
    }
   },
   "outputs": [
    {
     "data": {
      "text/plain": [
       "array(['9/19/83 (#1)', '9/20/83 (#2)', '9/21/83 (#3)', ...,\n",
       "       '6/6/18 (#6823)', '6/7/18 (#6824)', '6/8/18 (#6825)'], dtype=object)"
      ]
     },
     "execution_count": 4,
     "metadata": {},
     "output_type": "execute_result"
    }
   ],
   "source": [
    "df.date.unique()"
   ]
  },
  {
   "cell_type": "code",
   "execution_count": 5,
   "metadata": {
    "ExecuteTime": {
     "end_time": "2019-04-02T13:43:15.911574Z",
     "start_time": "2019-04-02T13:43:15.891955Z"
    }
   },
   "outputs": [],
   "source": [
    "train_dates, test_dates = train_test_split(df.date.unique(), )"
   ]
  },
  {
   "cell_type": "code",
   "execution_count": 6,
   "metadata": {
    "ExecuteTime": {
     "end_time": "2019-04-02T13:43:16.002113Z",
     "start_time": "2019-04-02T13:43:15.968383Z"
    }
   },
   "outputs": [],
   "source": [
    "train_puzzles = df.loc[df.date.isin(train_dates)]\n",
    "test_puzzles = df.loc[df.date.isin(test_dates)]"
   ]
  },
  {
   "cell_type": "code",
   "execution_count": 33,
   "metadata": {
    "ExecuteTime": {
     "end_time": "2019-04-02T14:10:27.169941Z",
     "start_time": "2019-04-02T14:10:27.164650Z"
    }
   },
   "outputs": [],
   "source": [
    "os.mkdir('data')"
   ]
  },
  {
   "cell_type": "code",
   "execution_count": 34,
   "metadata": {
    "ExecuteTime": {
     "end_time": "2019-04-02T14:10:35.370031Z",
     "start_time": "2019-04-02T14:10:35.309396Z"
    }
   },
   "outputs": [],
   "source": [
    "df.to_pickle('data/puzzles.pkl')"
   ]
  },
  {
   "cell_type": "code",
   "execution_count": 7,
   "metadata": {
    "ExecuteTime": {
     "end_time": "2019-04-02T13:43:45.292012Z",
     "start_time": "2019-04-02T13:43:16.104999Z"
    }
   },
   "outputs": [],
   "source": [
    "# unigrams = CountVectorizer(lowercase=False, analyzer='char', ngram_range=(1, 1))\n",
    "ngrams = CountVectorizer(lowercase=False, analyzer='char_wb', ngram_range=(1, 5))\n",
    "\n",
    "# X_u = unigrams.fit_transform(df.puzzle)\n",
    "X_n = ngrams.fit_transform(df.puzzle)\n",
    "\n",
    "# unigram_voc = unigrams.vocabulary_\n",
    "ngram_voc = ngrams.vocabulary_\n",
    "\n",
    "# unigrams_count = X_u.toarray().sum(axis=0)\n",
    "ngrams_count = X_n.toarray().sum(axis=0)"
   ]
  },
  {
   "cell_type": "code",
   "execution_count": 38,
   "metadata": {
    "ExecuteTime": {
     "end_time": "2019-04-02T14:13:29.550338Z",
     "start_time": "2019-04-02T14:13:29.089770Z"
    }
   },
   "outputs": [],
   "source": [
    "pickle.dump(ngram_voc, open('data/vocab.pkl', 'wb'))\n",
    "pickle.dump(ngrams_count, open('data/freqs.pkl', 'wb'))"
   ]
  },
  {
   "cell_type": "code",
   "execution_count": 8,
   "metadata": {
    "ExecuteTime": {
     "end_time": "2019-04-02T13:43:46.138665Z",
     "start_time": "2019-04-02T13:43:46.037947Z"
    }
   },
   "outputs": [],
   "source": [
    "def calc_ngram_freq(pattern, remaining, max_n=5, counts=ngrams_count, voc=ngram_voc):\n",
    "    n = len(pattern)\n",
    "#     print(pattern)\n",
    "    locs = [i for i, letter in enumerate(pattern) if letter == '=']\n",
    "    if len(locs) != 1:\n",
    "        return {}\n",
    "    missing = locs[0]\n",
    "    if n > max_n:\n",
    "#         print('long')\n",
    "        n_sum = defaultdict(float)\n",
    "        slices = [pattern[i:i+max_n] for i in range(n-max_n+1) if '=' in pattern[i:i+5]]\n",
    "        for s in slices:\n",
    "            slice_freqs = calc_ngram_freq(s, remaining)\n",
    "            for key, value in slice_freqs.items():\n",
    "                n_sum[key] += value\n",
    "        return {k: v / len(slices) for k, v in n_sum.items()}\n",
    "\n",
    "    known = set(range(n))\n",
    "    known.discard(missing)\n",
    "    total = 0\n",
    "    n_grams = [(k, i) for k, i in voc.items() if len(k) == n]\n",
    "    if n == 1:\n",
    "        indices = [(ng, i) for ng, i in n_grams if ng in remaining]\n",
    "    else:\n",
    "        indices = [(ng[missing], i) for ng, i in n_grams \n",
    "               if [ng[j] for j in known] == [pattern[j] for j in known]\n",
    "               and ng[missing] in remaining]\n",
    "    n_counts = {}\n",
    "    for letter, i in indices:\n",
    "        total += counts[i]\n",
    "        n_counts[letter] = counts[i]\n",
    "    n_freqs = {k: v / total for k, v in n_counts.items()}\n",
    "    return n_freqs"
   ]
  },
  {
   "cell_type": "code",
   "execution_count": 9,
   "metadata": {
    "ExecuteTime": {
     "end_time": "2019-04-02T13:43:46.448715Z",
     "start_time": "2019-04-02T13:43:46.390796Z"
    }
   },
   "outputs": [],
   "source": [
    "def find_chunks(masked_str):\n",
    "    padded_masked_str = ' ' + masked_str + ' '\n",
    "    missing_locs = [i for i, letter in enumerate(padded_masked_str) if letter == '=']\n",
    "    if not missing_locs:\n",
    "        return None\n",
    "    chunks = []\n",
    "    \n",
    "    def tokenize_part(text):\n",
    "        parts = text.split(' ')\n",
    "        if len(parts) > 1:\n",
    "            if '=' in parts[0]:\n",
    "                return parts[0] + ' '\n",
    "            elif '=' in parts[-1]:\n",
    "                return ' ' + parts[-1]\n",
    "            else:\n",
    "                return ' ' + [part for part in parts if '=' in part][0] + ' '\n",
    "        else:\n",
    "            return text\n",
    "    \n",
    "    lb = 0\n",
    "    cache = 0\n",
    "    for loc in missing_locs:\n",
    "        if lb == cache:\n",
    "            cache = loc+1\n",
    "            continue\n",
    "        chunks.append(tokenize_part(padded_masked_str[lb:loc]))\n",
    "        lb = cache\n",
    "        cache = loc+1\n",
    "    chunks.append(tokenize_part(padded_masked_str[lb:]))\n",
    "    return chunks"
   ]
  },
  {
   "cell_type": "code",
   "execution_count": 10,
   "metadata": {
    "ExecuteTime": {
     "end_time": "2019-04-02T13:43:46.789314Z",
     "start_time": "2019-04-02T13:43:46.742086Z"
    }
   },
   "outputs": [],
   "source": [
    "def make_guess(masked_text, remaining, max_n=5):\n",
    "    remaining_cons = remaining - set('AEIOU')\n",
    "    remaining_vowels = remaining - remaining_cons\n",
    "    masked_str = ''.join(masked_text)\n",
    "    chunks = find_chunks(masked_str)\n",
    "    guess_cons = defaultdict(float)\n",
    "    guess_vowels = defaultdict(float)\n",
    "    for chunk in chunks:\n",
    "        chunk_freq = calc_ngram_freq(chunk, remaining, max_n)\n",
    "        for letter in remaining_cons:\n",
    "            guess_cons[letter] += chunk_freq.get(letter, 0)\n",
    "        for letter in remaining_vowels:\n",
    "            guess_vowels[letter] += chunk_freq.get(letter, 0)\n",
    "    \n",
    "    if guess_cons:\n",
    "        best_cons = max(guess_cons.items(), key=lambda k: k[1])\n",
    "    else:\n",
    "        best_cons = (None, 0)\n",
    "    if guess_vowels:\n",
    "        best_vowel = max(guess_vowels.items(), key=lambda k: k[1])\n",
    "    else:\n",
    "        best_vowel = (None, 0)\n",
    "    return best_cons, best_vowel"
   ]
  },
  {
   "cell_type": "code",
   "execution_count": 11,
   "metadata": {
    "ExecuteTime": {
     "end_time": "2019-04-02T13:43:47.119338Z",
     "start_time": "2019-04-02T13:43:47.102665Z"
    }
   },
   "outputs": [],
   "source": [
    "def update_puzzle(masked_list, under, guess, remaining):\n",
    "    right = 0\n",
    "    if (guess in under) and (guess in remaining):\n",
    "        locs = [i for i, letter in enumerate(under) if letter == guess]\n",
    "        for pos in locs:\n",
    "            masked_list[pos] = guess\n",
    "        print(f\"There are {len(locs)} {guess}'s in the puzzle!\")\n",
    "        right = len(locs)\n",
    "        \n",
    "    else:\n",
    "        print(f\"Sorry, no {guess}.\")\n",
    "    remaining.discard(guess)\n",
    "    return masked_list, right"
   ]
  },
  {
   "cell_type": "code",
   "execution_count": 12,
   "metadata": {
    "ExecuteTime": {
     "end_time": "2019-04-02T13:43:47.393721Z",
     "start_time": "2019-04-02T13:43:47.370555Z"
    },
    "scrolled": false
   },
   "outputs": [],
   "source": [
    "def play_puzzle(text):\n",
    "    guesses = 0\n",
    "    masked_text = list(re.sub(r'[A-Z]', '=', text))\n",
    "    remaining = set(string.ascii_uppercase)\n",
    "    print(f\"Puzzle: {''.join(masked_text)}\")\n",
    "    cons = remaining - set('AEIOU')\n",
    "    vowels = remaining - cons\n",
    "    print(f\"Remaining Consonants: {''.join(sorted(cons))}\")\n",
    "    print(f\"Remaining Vowels: {''.join(sorted(vowels))}\")\n",
    "    print()\n",
    "    while masked_text != list(text):\n",
    "        guesses += 1\n",
    "        print(f\"Round {guesses}\")\n",
    "        guess = make_guess(masked_text, remaining)\n",
    "        print(f\"Guess: {guess}\")\n",
    "        masked_text, _ = update_puzzle(masked_text, text, guess, remaining)\n",
    "        print()"
   ]
  },
  {
   "cell_type": "code",
   "execution_count": 30,
   "metadata": {
    "ExecuteTime": {
     "end_time": "2019-04-02T14:07:31.683336Z",
     "start_time": "2019-04-02T14:07:31.516015Z"
    }
   },
   "outputs": [],
   "source": [
    "def full_game(puzzle_df, rounds=3):\n",
    "    rules = (\n",
    "        f\"Let's play {rounds} rounds!\"\n",
    "            )\n",
    "    round_puzzles = puzzle_df.query('round==\"Round\"')\n",
    "    bonus_puzzles = puzzle_df.query('round==\"Bonus\"')\n",
    "    print(rules)\n",
    "    name = input(\"Player name: \")\n",
    "    level = int(input(\"Choose computer level 1-5: \"))\n",
    "    while level not in range(1, 6):\n",
    "        level = int(input(\"Invalid. Choose computer level 1-5: \"))\n",
    "    overall_scores = {name: 0, 'Computer': 0}\n",
    "    if np.random.choice([0,1]):\n",
    "#         print(\"Computer goes first!\")\n",
    "        comp_first = True\n",
    "    else:\n",
    "#         print(f\"{name} goes first!\")\n",
    "        comp_first = False\n",
    "    for i in range(rounds):\n",
    "        if i == 0:\n",
    "            top = 2500\n",
    "        elif i ==1:\n",
    "            top = 3500\n",
    "        else:\n",
    "            i == 5000\n",
    "        print(f\"{name} Total: {overall_scores[name]}\")\n",
    "        print(f\"Computer Total: {overall_scores['Computer']}\")\n",
    "        if (i % 2 != comp_first):\n",
    "            input(f\"Computer first round {i+1}. Enter to advance \")\n",
    "        else:\n",
    "            input(f\"{name} first round {i+1}. Enter to advance \")\n",
    "        time.sleep(.1)\n",
    "        display.clear_output()\n",
    "        sample_row = round_puzzles.sample(1)\n",
    "        winner, score = play_puzzle(sample_row.puzzle.iloc[0],\n",
    "                    sample_row.category.iloc[0],\n",
    "                    (i % 2 != comp_first),\n",
    "                    level,\n",
    "                    name,\n",
    "                    top\n",
    "                   )\n",
    "        if score < 2000:\n",
    "            print('Minimum 2000 for winner!')\n",
    "            time.sleep(2)\n",
    "            score = 2000\n",
    "        overall_scores[winner] += score\n",
    "    \n",
    "    print(f\"{name} Total: {overall_scores[name]}\")\n",
    "    print(f\"Computer Total: {overall_scores['Computer']}\")\n",
    "    if overall_scores[name] > overall_scores['Computer']:\n",
    "        print('You win!')\n",
    "        input('Enter to advance to bonus round!')\n",
    "        sample_row = bonus_puzzles.sample(1)\n",
    "        winnings = bonus_round(sample_row.puzzle.iloc[0],\n",
    "                    sample_row.category.iloc[0])\n",
    "        try:\n",
    "            winnings = int(winnings)\n",
    "            print(f\"Total Winnings: {winnings + overall_scores[name]}\")\n",
    "        except:\n",
    "            print(f'f\"Total Winnings: {winnings} + {overall_scores[name]}\"')\n",
    "    else:\n",
    "        print(\"Too bad, computer wins.\")\n",
    "        take_home = min([2000, overall_scores[name]])\n",
    "        print(f'You won ${take_home}')"
   ]
  },
  {
   "cell_type": "code",
   "execution_count": 14,
   "metadata": {
    "ExecuteTime": {
     "end_time": "2019-04-02T13:43:48.247211Z",
     "start_time": "2019-04-02T13:43:48.087847Z"
    }
   },
   "outputs": [],
   "source": [
    "def bonus_round(text, category):\n",
    "    display.clear_output(wait=True)\n",
    "    win = False\n",
    "    bonus_prize = np.random.choice([\n",
    "        'A New Car',\n",
    "        35000,\n",
    "        50000,\n",
    "        'A European Vacation',\n",
    "        100000\n",
    "    ])\n",
    "    masked_text = list(re.sub(r'[ABCDFGHIJKMOPQUVWXYZ]', '=', text))\n",
    "    print(f\"Puzzle: {''.join(masked_text)}\")\n",
    "    print(f'Category: {category}')\n",
    "    print(\"Given: RSTLNE\")\n",
    "    s = ''\n",
    "    print()\n",
    "    print(\"Guess 3 consonants and a vowel.\")\n",
    "    for i in range(3):\n",
    "        letter = input(f\"Consonant {i+1}: \").upper()\n",
    "        while (len(letter) > 1) or (letter in set('AEIOU')):\n",
    "            letter = input(f\"Invalid input. Consonant {i+1}: \").upper()\n",
    "        s += letter\n",
    "    vowel = input(\"Vowel: \").upper()\n",
    "    while (len(vowel) > 1) or (vowel not in set('AEIOU')):\n",
    "        letter = input(f\"Invalid input. Vowel: \").upper()\n",
    "    s += vowel\n",
    "    \n",
    "    for guess in s:\n",
    "        locs = [i for i, letter in enumerate(text) if letter == guess]\n",
    "        for pos in locs:\n",
    "            masked_text[pos] = guess\n",
    "    \n",
    "    left = 3\n",
    "    sol = ''\n",
    "    display.clear_output(wait=True)\n",
    "    print(f\"Puzzle: {''.join(masked_text)}\")\n",
    "    print(f'Category: {category}')\n",
    "    print(\"Given: RSTLNE\")\n",
    "    print(f'Guessed Letters: {s}')\n",
    "    while sol != text and left > 0:\n",
    "        \n",
    "\n",
    "        sol = input(f\"Try to solve! {left} tries left: \").upper()\n",
    "        left -= 1\n",
    "        if sol == text:\n",
    "            win = True\n",
    "    display.clear_output(wait=True)\n",
    "    print(f\"Puzzle: {text}\")\n",
    "    print(f'Category: {category}')\n",
    "    print(\"Given: RSTLNE\")\n",
    "    print(f'Guessed Letters: {s}')\n",
    "    print(f'Your Guess: {sol}')\n",
    "    print()\n",
    "    if win:\n",
    "        print(\"CONGRATULATIONS!!!\")\n",
    "        print(f\"You won {bonus_prize}\")\n",
    "        return bonus_prize\n",
    "    else:\n",
    "        print(f\"Too bad! You could have won {bonus_prize}\")\n",
    "        return 0"
   ]
  },
  {
   "cell_type": "code",
   "execution_count": 23,
   "metadata": {
    "ExecuteTime": {
     "end_time": "2019-04-02T14:04:24.236558Z",
     "start_time": "2019-04-02T14:04:24.209995Z"
    }
   },
   "outputs": [],
   "source": [
    "puzz_values = [\n",
    "#     '2500',\n",
    "    '500',\n",
    "    '600',\n",
    "    '700',\n",
    "    '600',\n",
    "    '650',\n",
    "    '500',\n",
    "    '700',\n",
    "    'Bankrupt',\n",
    "    '600',\n",
    "    '550',\n",
    "    '500',\n",
    "    '600',\n",
    "    'Bankrupt',\n",
    "    '650',\n",
    "    '500',\n",
    "    '700',\n",
    "    'Lose A Turn',\n",
    "    '800',\n",
    "    '500',\n",
    "    '650',\n",
    "    '500',\n",
    "    '900',\n",
    "#     'Bankrupt',\n",
    "]"
   ]
  },
  {
   "cell_type": "code",
   "execution_count": 24,
   "metadata": {
    "ExecuteTime": {
     "end_time": "2019-04-02T14:05:23.142510Z",
     "start_time": "2019-04-02T14:05:23.121582Z"
    }
   },
   "outputs": [],
   "source": [
    "def spin(masked_text,\n",
    "                text,\n",
    "                category,\n",
    "                remaining,\n",
    "                scores,\n",
    "         name, turn, top):\n",
    "    wheel = [top] + puzz_values\n",
    "    spaces = np.random.choice(len(wheel)) + int(len(wheel) * 0.5)\n",
    "    for i in range(spaces):\n",
    "        display.clear_output(wait=True)\n",
    "        time.sleep(.1)\n",
    "        print_puzzle_info(masked_text, category, remaining, scores, name, turn)\n",
    "        print(f'Value: {puzz_values[i % len(puzz_values)]}')\n",
    "    space = wheel[i % len(wheel)]\n",
    "    return space"
   ]
  },
  {
   "cell_type": "code",
   "execution_count": 27,
   "metadata": {
    "ExecuteTime": {
     "end_time": "2019-04-02T14:05:54.880691Z",
     "start_time": "2019-04-02T14:05:54.669582Z"
    }
   },
   "outputs": [],
   "source": [
    "def player_turn(masked_text,\n",
    "                text,\n",
    "                category,\n",
    "                remaining,\n",
    "                scores,\n",
    "                name,\n",
    "                top\n",
    "               ):\n",
    "    vowel = True\n",
    "    win = False\n",
    "    rd = 0\n",
    "    print_puzzle_info(masked_text, category, remaining, scores, name, name)\n",
    "    time.sleep(.5)\n",
    "    if scores[name] < 250:\n",
    "        mode = input('(S)pin or Sol(V)e? ')\n",
    "    else:\n",
    "        mode = input('(S)pin, (B)uy a vowel, or Sol(V)e? ')\n",
    "    if (mode.upper() == 'V') or (mode.upper() == 'SOLVE'):\n",
    "        sol = input('Solution: ')\n",
    "        if sol.upper() == text:\n",
    "            masked_text = list(text)\n",
    "            win = True\n",
    "            print(f'Correct! {name} wins!')\n",
    "        else:\n",
    "            rd += 1\n",
    "            print(\"Sorry, incorrect.\")\n",
    "            print(\"Computer's Turn!\")\n",
    "        time.sleep(3)    \n",
    "        return masked_text, scores, win, rd\n",
    "    elif (mode.upper() == 'S') or (mode.upper() == 'SPIN'):\n",
    "        space = spin(masked_text,\n",
    "                text,\n",
    "                category,\n",
    "                remaining,\n",
    "                scores, name, name, top)\n",
    "        if space == 'Bankrupt':\n",
    "            rd += 1\n",
    "            print('Bankrupt!')\n",
    "            print(\"Computer's Turn!\")\n",
    "            time.sleep(3)\n",
    "            scores[name] = 0\n",
    "            return masked_text, scores, win, rd\n",
    "        elif space == 'Lose A Turn':\n",
    "            rd += 1\n",
    "            print('Lose a Turn!')\n",
    "            print(\"Computer's Turn!\")\n",
    "            time.sleep(3)\n",
    "            return masked_text, scores, win, rd\n",
    "        else:\n",
    "            vowel = False\n",
    "            val = int(space)\n",
    "    time.sleep(0.1)\n",
    "    masked_text, right = player_guess(masked_text, text, vowel, remaining)\n",
    "    if (mode.upper() == 'S') or (mode.upper() == 'SPIN'):\n",
    "        scores[name] += right*val\n",
    "    else:\n",
    "        scores[name] -= 250\n",
    "    if masked_text == list(text):\n",
    "        print(f'Puzzle: {text}')\n",
    "        print(f'{name} wins!')\n",
    "        win = True\n",
    "    if not right:\n",
    "        rd += 1\n",
    "        print(\"Computer's Turn!\")\n",
    "    time.sleep(3)\n",
    "    \n",
    "    return masked_text, scores, win, rd"
   ]
  },
  {
   "cell_type": "code",
   "execution_count": 28,
   "metadata": {
    "ExecuteTime": {
     "end_time": "2019-04-02T14:06:00.671154Z",
     "start_time": "2019-04-02T14:06:00.512973Z"
    }
   },
   "outputs": [],
   "source": [
    "def computer_turn(masked_text,\n",
    "                text,\n",
    "                category,\n",
    "                remaining,\n",
    "                scores,\n",
    "                name,\n",
    "                level,\n",
    "                top):\n",
    "    rd = 0\n",
    "    win = False\n",
    "    print_puzzle_info(masked_text, category, remaining, scores, name, 'Computer')\n",
    "    best_cons, best_vowel = make_guess(masked_text, remaining, level)\n",
    "    if (best_cons[1] > best_vowel[1]) or (scores['Computer'] < 250):\n",
    "        space = spin(masked_text,\n",
    "                text,\n",
    "                category,\n",
    "                remaining,\n",
    "                scores, name, 'Computer', top)\n",
    "        guess = best_cons[0]\n",
    "        if space == 'Bankrupt':\n",
    "            rd += 1\n",
    "            print('Bankrupt!')\n",
    "            print(f\"{name}'s Turn!\")\n",
    "            time.sleep(3)\n",
    "            scores['Computer'] = 0\n",
    "            return masked_text, scores, win, rd\n",
    "        elif space == 'Lose A Turn':\n",
    "            rd += 1\n",
    "            print('Lose a Turn!')\n",
    "            print(f\"{name}'s Turn!\")\n",
    "            time.sleep(3)\n",
    "            return masked_text, scores, win, rd\n",
    "        else:\n",
    "            val = int(space)\n",
    "            print(f\"Guess: {guess}\")\n",
    "            masked_text, right = update_puzzle(masked_text, text, guess, remaining)\n",
    "            scores['Computer'] += val*right\n",
    "    else:\n",
    "        scores['Computer'] -= 250\n",
    "        guess = best_vowel[0]\n",
    "        print(f'Buy an {guess}')\n",
    "        masked_text, right = update_puzzle(masked_text, text, guess, remaining)\n",
    "    \n",
    "    if masked_text == list(text):\n",
    "        print(f'Puzzle: {text}')\n",
    "        print('Computer wins!')\n",
    "        win = True\n",
    "    if not right:\n",
    "        rd += 1\n",
    "        print(f\"{name}'s Turn!\")\n",
    "    time.sleep(3)\n",
    "    \n",
    "    return masked_text, scores, win, rd"
   ]
  },
  {
   "cell_type": "code",
   "execution_count": 29,
   "metadata": {
    "ExecuteTime": {
     "end_time": "2019-04-02T14:06:19.790615Z",
     "start_time": "2019-04-02T14:06:19.739999Z"
    }
   },
   "outputs": [],
   "source": [
    "def play_puzzle(text, category, comp_first, level, name, top):\n",
    "    masked_text = list(re.sub(r'[A-Z]', '=', text))\n",
    "    remaining = set(string.ascii_uppercase)\n",
    "    rd = 0\n",
    "    scores = {name: 0, 'Computer': 0}\n",
    "    while masked_text != list(text):\n",
    "        display.clear_output(wait=True)\n",
    "        if (rd % 2 == 0) == comp_first:\n",
    "            masked_text, scores, win, inc = computer_turn(masked_text,\n",
    "                                                        text,\n",
    "                                                        category,\n",
    "                                                        remaining,\n",
    "                                                        scores,\n",
    "                                                        name,\n",
    "                                                        level,\n",
    "                                                        top)\n",
    "            if win:\n",
    "                winner = 'Computer'\n",
    "        else:\n",
    "            masked_text, scores, win, inc = player_turn(masked_text,\n",
    "                                                        text,\n",
    "                                                        category,\n",
    "                                                        remaining,\n",
    "                                                        scores,\n",
    "                                                        name,\n",
    "                                                        top)\n",
    "            if win:\n",
    "                winner = name\n",
    "        rd += inc\n",
    "    display.clear_output()\n",
    "    return winner, scores[winner]"
   ]
  },
  {
   "cell_type": "code",
   "execution_count": 20,
   "metadata": {
    "ExecuteTime": {
     "end_time": "2019-04-02T13:43:50.727441Z",
     "start_time": "2019-04-02T13:43:50.719141Z"
    }
   },
   "outputs": [],
   "source": [
    "def player_guess(masked_text, text, vowel, remaining):\n",
    "    kind = \"vowel\" if vowel else \"consonant\"\n",
    "    guess = input(f\"Guess a {kind}: \").upper()\n",
    "    vowels = set('AEIOU')\n",
    "    while len(guess) > 1 or ((guess in vowels) != vowel):\n",
    "        guess = input(f\"Invalid input. Guess a {kind}: \").upper()\n",
    "    return update_puzzle(masked_text, text, guess, remaining)\n",
    "    "
   ]
  },
  {
   "cell_type": "code",
   "execution_count": 21,
   "metadata": {
    "ExecuteTime": {
     "end_time": "2019-04-02T13:43:51.168716Z",
     "start_time": "2019-04-02T13:43:51.137467Z"
    }
   },
   "outputs": [],
   "source": [
    "def print_puzzle_info(masked, category, remaining, scores, player, turn):\n",
    "    print(f'{player} score: {scores[player]}')\n",
    "    print(f'Computer score: {scores[\"Computer\"]}')\n",
    "    print()\n",
    "    print(f\"Puzzle: {''.join(masked)}\")\n",
    "    print(f'Category: {category}')\n",
    "    cons = remaining - set('AEIOU')\n",
    "    vowels = remaining - cons\n",
    "    print(f\"Remaining Consonants: {''.join(sorted(cons))}\")\n",
    "    print(f\"Remaining Vowels: {''.join(sorted(vowels))}\")\n",
    "    print()\n",
    "    print(f\"Turn: {turn}\")"
   ]
  },
  {
   "cell_type": "code",
   "execution_count": 22,
   "metadata": {
    "ExecuteTime": {
     "end_time": "2019-04-02T14:03:56.734166Z",
     "start_time": "2019-04-02T14:00:25.958564Z"
    }
   },
   "outputs": [
    {
     "name": "stdout",
     "output_type": "stream",
     "text": [
      "Dave Total: 2650\n",
      "Computer Total: 0\n"
     ]
    },
    {
     "ename": "KeyboardInterrupt",
     "evalue": "",
     "output_type": "error",
     "traceback": [
      "\u001b[0;31m---------------------------------------------------------------------------\u001b[0m",
      "\u001b[0;31mKeyboardInterrupt\u001b[0m                         Traceback (most recent call last)",
      "\u001b[0;32m~/anaconda3/lib/python3.6/site-packages/ipykernel/kernelbase.py\u001b[0m in \u001b[0;36m_input_request\u001b[0;34m(self, prompt, ident, parent, password)\u001b[0m\n\u001b[1;32m    728\u001b[0m             \u001b[0;32mtry\u001b[0m\u001b[0;34m:\u001b[0m\u001b[0;34m\u001b[0m\u001b[0m\n\u001b[0;32m--> 729\u001b[0;31m                 \u001b[0mident\u001b[0m\u001b[0;34m,\u001b[0m \u001b[0mreply\u001b[0m \u001b[0;34m=\u001b[0m \u001b[0mself\u001b[0m\u001b[0;34m.\u001b[0m\u001b[0msession\u001b[0m\u001b[0;34m.\u001b[0m\u001b[0mrecv\u001b[0m\u001b[0;34m(\u001b[0m\u001b[0mself\u001b[0m\u001b[0;34m.\u001b[0m\u001b[0mstdin_socket\u001b[0m\u001b[0;34m,\u001b[0m \u001b[0;36m0\u001b[0m\u001b[0;34m)\u001b[0m\u001b[0;34m\u001b[0m\u001b[0m\n\u001b[0m\u001b[1;32m    730\u001b[0m             \u001b[0;32mexcept\u001b[0m \u001b[0mException\u001b[0m\u001b[0;34m:\u001b[0m\u001b[0;34m\u001b[0m\u001b[0m\n",
      "\u001b[0;32m~/anaconda3/lib/python3.6/site-packages/jupyter_client/session.py\u001b[0m in \u001b[0;36mrecv\u001b[0;34m(self, socket, mode, content, copy)\u001b[0m\n\u001b[1;32m    802\u001b[0m         \u001b[0;32mtry\u001b[0m\u001b[0;34m:\u001b[0m\u001b[0;34m\u001b[0m\u001b[0m\n\u001b[0;32m--> 803\u001b[0;31m             \u001b[0mmsg_list\u001b[0m \u001b[0;34m=\u001b[0m \u001b[0msocket\u001b[0m\u001b[0;34m.\u001b[0m\u001b[0mrecv_multipart\u001b[0m\u001b[0;34m(\u001b[0m\u001b[0mmode\u001b[0m\u001b[0;34m,\u001b[0m \u001b[0mcopy\u001b[0m\u001b[0;34m=\u001b[0m\u001b[0mcopy\u001b[0m\u001b[0;34m)\u001b[0m\u001b[0;34m\u001b[0m\u001b[0m\n\u001b[0m\u001b[1;32m    804\u001b[0m         \u001b[0;32mexcept\u001b[0m \u001b[0mzmq\u001b[0m\u001b[0;34m.\u001b[0m\u001b[0mZMQError\u001b[0m \u001b[0;32mas\u001b[0m \u001b[0me\u001b[0m\u001b[0;34m:\u001b[0m\u001b[0;34m\u001b[0m\u001b[0m\n",
      "\u001b[0;32m~/anaconda3/lib/python3.6/site-packages/zmq/sugar/socket.py\u001b[0m in \u001b[0;36mrecv_multipart\u001b[0;34m(self, flags, copy, track)\u001b[0m\n\u001b[1;32m    465\u001b[0m         \"\"\"\n\u001b[0;32m--> 466\u001b[0;31m         \u001b[0mparts\u001b[0m \u001b[0;34m=\u001b[0m \u001b[0;34m[\u001b[0m\u001b[0mself\u001b[0m\u001b[0;34m.\u001b[0m\u001b[0mrecv\u001b[0m\u001b[0;34m(\u001b[0m\u001b[0mflags\u001b[0m\u001b[0;34m,\u001b[0m \u001b[0mcopy\u001b[0m\u001b[0;34m=\u001b[0m\u001b[0mcopy\u001b[0m\u001b[0;34m,\u001b[0m \u001b[0mtrack\u001b[0m\u001b[0;34m=\u001b[0m\u001b[0mtrack\u001b[0m\u001b[0;34m)\u001b[0m\u001b[0;34m]\u001b[0m\u001b[0;34m\u001b[0m\u001b[0m\n\u001b[0m\u001b[1;32m    467\u001b[0m         \u001b[0;31m# have first part already, only loop while more to receive\u001b[0m\u001b[0;34m\u001b[0m\u001b[0;34m\u001b[0m\u001b[0m\n",
      "\u001b[0;32mzmq/backend/cython/socket.pyx\u001b[0m in \u001b[0;36mzmq.backend.cython.socket.Socket.recv\u001b[0;34m()\u001b[0m\n",
      "\u001b[0;32mzmq/backend/cython/socket.pyx\u001b[0m in \u001b[0;36mzmq.backend.cython.socket.Socket.recv\u001b[0;34m()\u001b[0m\n",
      "\u001b[0;32mzmq/backend/cython/socket.pyx\u001b[0m in \u001b[0;36mzmq.backend.cython.socket._recv_copy\u001b[0;34m()\u001b[0m\n",
      "\u001b[0;32m~/anaconda3/lib/python3.6/site-packages/zmq/backend/cython/checkrc.pxd\u001b[0m in \u001b[0;36mzmq.backend.cython.checkrc._check_rc\u001b[0;34m()\u001b[0m\n",
      "\u001b[0;31mKeyboardInterrupt\u001b[0m: ",
      "\nDuring handling of the above exception, another exception occurred:\n",
      "\u001b[0;31mKeyboardInterrupt\u001b[0m                         Traceback (most recent call last)",
      "\u001b[0;32m<ipython-input-22-439b41d2bc31>\u001b[0m in \u001b[0;36m<module>\u001b[0;34m()\u001b[0m\n\u001b[0;32m----> 1\u001b[0;31m \u001b[0mfull_game\u001b[0m\u001b[0;34m(\u001b[0m\u001b[0mtest_puzzles\u001b[0m\u001b[0;34m,\u001b[0m \u001b[0;36m3\u001b[0m\u001b[0;34m)\u001b[0m\u001b[0;34m\u001b[0m\u001b[0m\n\u001b[0m",
      "\u001b[0;32m<ipython-input-13-194313939413>\u001b[0m in \u001b[0;36mfull_game\u001b[0;34m(puzzle_df, rounds)\u001b[0m\n\u001b[1;32m     23\u001b[0m             \u001b[0minput\u001b[0m\u001b[0;34m(\u001b[0m\u001b[0;34mf\"Computer first round {i+1}. Enter to advance \"\u001b[0m\u001b[0;34m)\u001b[0m\u001b[0;34m\u001b[0m\u001b[0m\n\u001b[1;32m     24\u001b[0m         \u001b[0;32melse\u001b[0m\u001b[0;34m:\u001b[0m\u001b[0;34m\u001b[0m\u001b[0m\n\u001b[0;32m---> 25\u001b[0;31m             \u001b[0minput\u001b[0m\u001b[0;34m(\u001b[0m\u001b[0;34mf\"{name} first round {i+1}. Enter to advance \"\u001b[0m\u001b[0;34m)\u001b[0m\u001b[0;34m\u001b[0m\u001b[0m\n\u001b[0m\u001b[1;32m     26\u001b[0m         \u001b[0mtime\u001b[0m\u001b[0;34m.\u001b[0m\u001b[0msleep\u001b[0m\u001b[0;34m(\u001b[0m\u001b[0;36m.1\u001b[0m\u001b[0;34m)\u001b[0m\u001b[0;34m\u001b[0m\u001b[0m\n\u001b[1;32m     27\u001b[0m         \u001b[0mdisplay\u001b[0m\u001b[0;34m.\u001b[0m\u001b[0mclear_output\u001b[0m\u001b[0;34m(\u001b[0m\u001b[0;34m)\u001b[0m\u001b[0;34m\u001b[0m\u001b[0m\n",
      "\u001b[0;32m~/anaconda3/lib/python3.6/site-packages/ipykernel/kernelbase.py\u001b[0m in \u001b[0;36mraw_input\u001b[0;34m(self, prompt)\u001b[0m\n\u001b[1;32m    702\u001b[0m             \u001b[0mself\u001b[0m\u001b[0;34m.\u001b[0m\u001b[0m_parent_ident\u001b[0m\u001b[0;34m,\u001b[0m\u001b[0;34m\u001b[0m\u001b[0m\n\u001b[1;32m    703\u001b[0m             \u001b[0mself\u001b[0m\u001b[0;34m.\u001b[0m\u001b[0m_parent_header\u001b[0m\u001b[0;34m,\u001b[0m\u001b[0;34m\u001b[0m\u001b[0m\n\u001b[0;32m--> 704\u001b[0;31m             \u001b[0mpassword\u001b[0m\u001b[0;34m=\u001b[0m\u001b[0;32mFalse\u001b[0m\u001b[0;34m,\u001b[0m\u001b[0;34m\u001b[0m\u001b[0m\n\u001b[0m\u001b[1;32m    705\u001b[0m         )\n\u001b[1;32m    706\u001b[0m \u001b[0;34m\u001b[0m\u001b[0m\n",
      "\u001b[0;32m~/anaconda3/lib/python3.6/site-packages/ipykernel/kernelbase.py\u001b[0m in \u001b[0;36m_input_request\u001b[0;34m(self, prompt, ident, parent, password)\u001b[0m\n\u001b[1;32m    732\u001b[0m             \u001b[0;32mexcept\u001b[0m \u001b[0mKeyboardInterrupt\u001b[0m\u001b[0;34m:\u001b[0m\u001b[0;34m\u001b[0m\u001b[0m\n\u001b[1;32m    733\u001b[0m                 \u001b[0;31m# re-raise KeyboardInterrupt, to truncate traceback\u001b[0m\u001b[0;34m\u001b[0m\u001b[0;34m\u001b[0m\u001b[0m\n\u001b[0;32m--> 734\u001b[0;31m                 \u001b[0;32mraise\u001b[0m \u001b[0mKeyboardInterrupt\u001b[0m\u001b[0;34m\u001b[0m\u001b[0m\n\u001b[0m\u001b[1;32m    735\u001b[0m             \u001b[0;32melse\u001b[0m\u001b[0;34m:\u001b[0m\u001b[0;34m\u001b[0m\u001b[0m\n\u001b[1;32m    736\u001b[0m                 \u001b[0;32mbreak\u001b[0m\u001b[0;34m\u001b[0m\u001b[0m\n",
      "\u001b[0;31mKeyboardInterrupt\u001b[0m: "
     ]
    }
   ],
   "source": [
    "full_game(test_puzzles, 3)"
   ]
  },
  {
   "cell_type": "code",
   "execution_count": null,
   "metadata": {},
   "outputs": [],
   "source": []
  },
  {
   "cell_type": "code",
   "execution_count": null,
   "metadata": {},
   "outputs": [],
   "source": []
  },
  {
   "cell_type": "code",
   "execution_count": null,
   "metadata": {},
   "outputs": [],
   "source": []
  },
  {
   "cell_type": "code",
   "execution_count": null,
   "metadata": {},
   "outputs": [],
   "source": []
  },
  {
   "cell_type": "code",
   "execution_count": null,
   "metadata": {},
   "outputs": [],
   "source": []
  },
  {
   "cell_type": "code",
   "execution_count": null,
   "metadata": {},
   "outputs": [],
   "source": []
  },
  {
   "cell_type": "code",
   "execution_count": null,
   "metadata": {},
   "outputs": [],
   "source": []
  },
  {
   "cell_type": "code",
   "execution_count": null,
   "metadata": {
    "collapsed": true
   },
   "outputs": [],
   "source": []
  }
 ],
 "metadata": {
  "hide_input": false,
  "kernelspec": {
   "display_name": "Python [default]",
   "language": "python",
   "name": "python3"
  },
  "language_info": {
   "codemirror_mode": {
    "name": "ipython",
    "version": 3
   },
   "file_extension": ".py",
   "mimetype": "text/x-python",
   "name": "python",
   "nbconvert_exporter": "python",
   "pygments_lexer": "ipython3",
   "version": "3.6.4"
  },
  "toc": {
   "nav_menu": {},
   "number_sections": true,
   "sideBar": true,
   "skip_h1_title": false,
   "title_cell": "Table of Contents",
   "title_sidebar": "Contents",
   "toc_cell": false,
   "toc_position": {},
   "toc_section_display": "block",
   "toc_window_display": false
  },
  "varInspector": {
   "cols": {
    "lenName": 16,
    "lenType": 16,
    "lenVar": 40
   },
   "kernels_config": {
    "python": {
     "delete_cmd_postfix": "",
     "delete_cmd_prefix": "del ",
     "library": "var_list.py",
     "varRefreshCmd": "print(var_dic_list())"
    },
    "r": {
     "delete_cmd_postfix": ") ",
     "delete_cmd_prefix": "rm(",
     "library": "var_list.r",
     "varRefreshCmd": "cat(var_dic_list()) "
    }
   },
   "types_to_exclude": [
    "module",
    "function",
    "builtin_function_or_method",
    "instance",
    "_Feature"
   ],
   "window_display": false
  }
 },
 "nbformat": 4,
 "nbformat_minor": 2
}
